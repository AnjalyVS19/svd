{
 "cells": [
  {
   "cell_type": "code",
   "execution_count": 1,
   "id": "6400b3ef",
   "metadata": {},
   "outputs": [
    {
     "data": {
      "text/plain": [
       "array([[1, 2],\n",
       "       [3, 4],\n",
       "       [5, 6]])"
      ]
     },
     "execution_count": 1,
     "metadata": {},
     "output_type": "execute_result"
    }
   ],
   "source": [
    "from numpy import diag,array,dot\n",
    "from scipy.linalg import svd\n",
    "a=array(([1,2],[3,4],[5,6]))\n",
    "a"
   ]
  },
  {
   "cell_type": "code",
   "execution_count": 2,
   "id": "45659c32",
   "metadata": {},
   "outputs": [],
   "source": [
    "u,s,vt=svd(a)"
   ]
  },
  {
   "cell_type": "code",
   "execution_count": 3,
   "id": "a478a9ba",
   "metadata": {},
   "outputs": [
    {
     "name": "stdout",
     "output_type": "stream",
     "text": [
      "matrix u \n",
      " [[-0.2298477   0.88346102  0.40824829]\n",
      " [-0.52474482  0.24078249 -0.81649658]\n",
      " [-0.81964194 -0.40189603  0.40824829]]\n",
      "matrix v \n",
      " [[-0.61962948 -0.78489445]\n",
      " [-0.78489445  0.61962948]]\n",
      "matrix s \n",
      " [9.52551809 0.51430058]\n"
     ]
    }
   ],
   "source": [
    "print('matrix u \\n',u)\n",
    "print('matrix v \\n',vt)\n",
    "print('matrix s \\n',s)"
   ]
  },
  {
   "cell_type": "code",
   "execution_count": 4,
   "id": "7dceaec8",
   "metadata": {},
   "outputs": [
    {
     "name": "stdout",
     "output_type": "stream",
     "text": [
      "[[0. 0.]\n",
      " [0. 0.]\n",
      " [0. 0.]]\n",
      "(3, 2)\n"
     ]
    }
   ],
   "source": [
    "import numpy as np\n",
    "sigma=np.zeros((a.shape[0],a.shape[1]))\n",
    "print(sigma)\n",
    "print(sigma.shape)"
   ]
  },
  {
   "cell_type": "code",
   "execution_count": 5,
   "id": "2dbf6bee",
   "metadata": {},
   "outputs": [
    {
     "data": {
      "text/plain": [
       "2"
      ]
     },
     "execution_count": 5,
     "metadata": {},
     "output_type": "execute_result"
    }
   ],
   "source": [
    "a.shape[1]"
   ]
  },
  {
   "cell_type": "code",
   "execution_count": 6,
   "id": "4a9390cc",
   "metadata": {},
   "outputs": [
    {
     "name": "stdout",
     "output_type": "stream",
     "text": [
      "[[9.52551809 0.        ]\n",
      " [0.         0.51430058]]\n"
     ]
    }
   ],
   "source": [
    "print(diag(s))"
   ]
  },
  {
   "cell_type": "code",
   "execution_count": 7,
   "id": "007f5db0",
   "metadata": {},
   "outputs": [],
   "source": [
    "sigma[:a.shape[1],:a.shape[1]]=diag(s)"
   ]
  },
  {
   "cell_type": "code",
   "execution_count": 8,
   "id": "9422e9c4",
   "metadata": {},
   "outputs": [
    {
     "data": {
      "text/plain": [
       "array([[9.52551809, 0.        ],\n",
       "       [0.        , 0.51430058],\n",
       "       [0.        , 0.        ]])"
      ]
     },
     "execution_count": 8,
     "metadata": {},
     "output_type": "execute_result"
    }
   ],
   "source": [
    "sigma"
   ]
  },
  {
   "cell_type": "code",
   "execution_count": 9,
   "id": "bcea51cd",
   "metadata": {},
   "outputs": [
    {
     "data": {
      "text/plain": [
       "array([[1., 2.],\n",
       "       [3., 4.],\n",
       "       [5., 6.]])"
      ]
     },
     "execution_count": 9,
     "metadata": {},
     "output_type": "execute_result"
    }
   ],
   "source": [
    "a_mos=u.dot(sigma.dot(vt))\n",
    "a_mos"
   ]
  },
  {
   "cell_type": "code",
   "execution_count": null,
   "id": "c9c628ae",
   "metadata": {},
   "outputs": [],
   "source": []
  }
 ],
 "metadata": {
  "kernelspec": {
   "display_name": "Python 3 (ipykernel)",
   "language": "python",
   "name": "python3"
  },
  "language_info": {
   "codemirror_mode": {
    "name": "ipython",
    "version": 3
   },
   "file_extension": ".py",
   "mimetype": "text/x-python",
   "name": "python",
   "nbconvert_exporter": "python",
   "pygments_lexer": "ipython3",
   "version": "3.11.5"
  }
 },
 "nbformat": 4,
 "nbformat_minor": 5
}
